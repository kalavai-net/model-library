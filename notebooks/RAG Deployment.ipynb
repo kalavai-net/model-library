{
 "cells": [
  {
   "cell_type": "markdown",
   "metadata": {},
   "source": [
    "# Rag Deployment Development"
   ]
  },
  {
   "cell_type": "code",
   "execution_count": 1,
   "metadata": {},
   "outputs": [
    {
     "name": "stderr",
     "output_type": "stream",
     "text": [
      "/home/atomkins/miniconda3/envs/kalavai/lib/python3.9/site-packages/pydantic/_internal/_fields.py:151: UserWarning: Field \"model_card\" has conflict with protected namespace \"model_\".\n",
      "\n",
      "You may be able to resolve this warning by setting `model_config['protected_namespaces'] = ()`.\n",
      "  warnings.warn(\n",
      "/home/atomkins/miniconda3/envs/kalavai/lib/python3.9/site-packages/pydantic/_internal/_fields.py:151: UserWarning: Field \"model_deployment_template\" has conflict with protected namespace \"model_\".\n",
      "\n",
      "You may be able to resolve this warning by setting `model_config['protected_namespaces'] = ()`.\n",
      "  warnings.warn(\n"
     ]
    }
   ],
   "source": [
    "from model_library.cards.architectures import LOCAL_AI_ARCHITECTURE\n",
    "from model_library.cards.models import LOCAL_AI_MODEL_CARD\n",
    "from model_library.cards.deployments import LOCAL_AI_DEPLOYMENT_CARD\n",
    "from model_library.cards.model_deployment_templates import LOCAL_AI_DEPLOYMENT_TEMPLATE_CARD\n",
    "from model_library.models import *   \n",
    "from model_library import ARCHITECTURES, MODELS, DEPLOYMENTS, MODEL_DEPLOYMENT_TEMPLATES"
   ]
  },
  {
   "cell_type": "code",
   "execution_count": 5,
   "metadata": {},
   "outputs": [],
   "source": [
    "user = UserInformation(\n",
    "    id=\"2\",\n",
    "    API_key= \"XXXX-XXXX-XXXX-XXXX\",\n",
    "    namespace = \"adam\",\n",
    ")\n",
    "\n"
   ]
  },
  {
   "cell_type": "code",
   "execution_count": 18,
   "metadata": {},
   "outputs": [],
   "source": [
    "# Define the RAG Data Structure\n",
    "from uuid import uuid4\n",
    "\n",
    "# Assuming ArchitectureCard, ModelCard, DeploymentCard, and ModelDeploymentTemplateCard are defined as per your instructions\n",
    "\n",
    "# Architecture Specific Details\n",
    "architecture = ArchitectureCard(\n",
    "    id=str(uuid4()),\n",
    "    deployment_yaml=\"kalavai_rag_deployment.yaml\",\n",
    "    name=\"Kalavai Rag Tool\",\n",
    "    description=\"RAG tool deployment architecture.\",\n",
    "    tags={},\n",
    "    health_endpoint=\"/health\"  # or specify if applicable\n",
    ")\n",
    "\n",
    "\n",
    "# Deployment Specific Details\n",
    "deployment_card = DeploymentCard(\n",
    "    id=str(uuid4()),\n",
    "    params={\"cpu_limits\": \"2\", \"memory_limits\": \"4Gi\", \"cpu_requests\": \"2\", \"memory_requests\": \"4Gi\"}\n",
    ")\n",
    "\n",
    "# Model Deployment Template (combining all the above)\n",
    "model_deployment_template_card = ModelDeploymentTemplateCard(\n",
    "    id=str(uuid4()),\n",
    "    name=\"RAG Tool Deployment\",\n",
    "    description=\"Deployment template for RAG tool with Python 3.8-slim container.\",\n",
    "    model_card=model_card,\n",
    "    deployment_card=deployment_card,\n",
    "    benchmarks=[],\n",
    "    params={\"namespace\": \"tools\", \"replicas\": 1, \"deployment_name\": \"rag-tool-test\"}\n",
    ")"
   ]
  },
  {
   "cell_type": "code",
   "execution_count": 22,
   "metadata": {},
   "outputs": [
    {
     "ename": "ImportError",
     "evalue": "cannot import name 'RAG_DEPLOYMENT_TEMPLATE_CARD' from 'model_library.cards.model_deployment_templates' (/home/adam/kalavai/model_library/model_library/cards/model_deployment_templates.py)",
     "output_type": "error",
     "traceback": [
      "\u001b[0;31m---------------------------------------------------------------------------\u001b[0m",
      "\u001b[0;31mImportError\u001b[0m                               Traceback (most recent call last)",
      "Cell \u001b[0;32mIn[22], line 1\u001b[0m\n\u001b[0;32m----> 1\u001b[0m \u001b[38;5;28;01mfrom\u001b[39;00m \u001b[38;5;21;01mmodel_library\u001b[39;00m\u001b[38;5;21;01m.\u001b[39;00m\u001b[38;5;21;01mcards\u001b[39;00m\u001b[38;5;21;01m.\u001b[39;00m\u001b[38;5;21;01mmodel_deployment_templates\u001b[39;00m \u001b[38;5;28;01mimport\u001b[39;00m RAG_DEPLOYMENT_TEMPLATE_CARD\n\u001b[1;32m      3\u001b[0m model_deployment \u001b[38;5;241m=\u001b[39m ModelDeploymentCard(\n\u001b[1;32m      4\u001b[0m     user_information\u001b[38;5;241m=\u001b[39muser,\n\u001b[1;32m      5\u001b[0m     model_deployment_template\u001b[38;5;241m=\u001b[39mRAG_DEPLOYMENT_TEMPLATE_CARD,\n\u001b[1;32m      6\u001b[0m )\n\u001b[1;32m      8\u001b[0m deployment_config \u001b[38;5;241m=\u001b[39m model_deployment\u001b[38;5;241m.\u001b[39mextract_deployment_config()\n",
      "\u001b[0;31mImportError\u001b[0m: cannot import name 'RAG_DEPLOYMENT_TEMPLATE_CARD' from 'model_library.cards.model_deployment_templates' (/home/adam/kalavai/model_library/model_library/cards/model_deployment_templates.py)"
     ]
    }
   ],
   "source": [
    "from model_library.cards.model_deployment_templates import RAG_DEPLOYMENT_TEMPLATE_CARD\n",
    "\n",
    "model_deployment = ModelDeploymentCard(\n",
    "    user_information=user,\n",
    "    model_deployment_template=RAG_DEPLOYMENT_TEMPLATE_CARD,\n",
    ")\n",
    "\n",
    "deployment_config = model_deployment.extract_deployment_config()"
   ]
  },
  {
   "cell_type": "code",
   "execution_count": 20,
   "metadata": {},
   "outputs": [
    {
     "name": "stdout",
     "output_type": "stream",
     "text": [
      "YAML string written to rag_deployment_example.yaml\n"
     ]
    }
   ],
   "source": [
    "file_path = \"rag_deployment_example.yaml\"  # Replace with your desired file path\n",
    "\n",
    "# Writing the string to a file\n",
    "with open(file_path, 'w') as file:\n",
    "    file.write(deployment_config)\n",
    "\n",
    "print(f\"YAML string written to {file_path}\")\n",
    "\n"
   ]
  },
  {
   "cell_type": "code",
   "execution_count": 16,
   "metadata": {},
   "outputs": [],
   "source": [
    "import requests\n",
    "import json\n",
    "\n",
    "def deploy_generic_model(config):\n",
    "    # Read the configuration from the file\n",
    "\n",
    "    # Prepare the request data\n",
    "    data = {\n",
    "        \"config\": config\n",
    "    }\n",
    "\n",
    "    # Define the URL and headers\n",
    "    url = \"http://0.0.0.0:8000/v1/deploy_generic_model\"\n",
    "    headers = {\n",
    "        \"accept\": \"application/json\",\n",
    "        \"Content-Type\": \"application/json\"\n",
    "    }\n",
    "\n",
    "    # Make the POST request\n",
    "    response = requests.post(url, headers=headers, data=json.dumps(data))\n",
    "\n",
    "    # Check the response\n",
    "    if response.status_code == 200:\n",
    "        print(\"Deployment successful.\")\n",
    "        print(response.json())\n",
    "    else:\n",
    "        print(f\"Deployment failed with status code {response.status_code}.\")\n",
    "        print(response.text)\n",
    "\n",
    "\n"
   ]
  },
  {
   "cell_type": "code",
   "execution_count": 17,
   "metadata": {},
   "outputs": [
    {
     "name": "stdout",
     "output_type": "stream",
     "text": [
      "Deployment successful.\n",
      "{'successful': ['[[{\\'api_version\\': \\'v1\\',\\n \\'kind\\': \\'Service\\',\\n \\'metadata\\': {\\'annotations\\': None,\\n              \\'creation_timestamp\\': datetime.datetime(2024, 2, 5, 16, 37, 41, tzinfo=tzutc()),\\n              \\'deletion_grace_period_seconds\\': None,\\n              \\'deletion_timestamp\\': None,\\n              \\'finalizers\\': None,\\n              \\'generate_name\\': None,\\n              \\'generation\\': None,\\n              \\'labels\\': {\\'app\\': \\'rag-tool-app\\'},\\n              \\'managed_fields\\': [{\\'api_version\\': \\'v1\\',\\n                                  \\'fields_type\\': \\'FieldsV1\\',\\n                                  \\'fields_v1\\': {\\'f:metadata\\': {\\'f:labels\\': {\\'.\\': {},\\n                                                                            \\'f:app\\': {}}},\\n                                                \\'f:spec\\': {\\'f:externalTrafficPolicy\\': {},\\n                                                           \\'f:internalTrafficPolicy\\': {},\\n                                                           \\'f:ports\\': {\\'.\\': {},\\n                                                                       \\'k:{\"port\":8000,\"protocol\":\"TCP\"}\\': {\\'.\\': {},\\n                                                                                                            \\'f:name\\': {},\\n                                                                                                            \\'f:port\\': {},\\n                                                                                                            \\'f:protocol\\': {},\\n                                                                                                            \\'f:targetPort\\': {}}},\\n                                                           \\'f:selector\\': {},\\n                                                           \\'f:sessionAffinity\\': {},\\n                                                           \\'f:type\\': {}}},\\n                                  \\'manager\\': \\'OpenAPI-Generator\\',\\n                                  \\'operation\\': \\'Update\\',\\n                                  \\'subresource\\': None,\\n                                  \\'time\\': datetime.datetime(2024, 2, 5, 16, 37, 41, tzinfo=tzutc())}],\\n              \\'name\\': \\'rag-tool-app-service\\',\\n              \\'namespace\\': \\'tools\\',\\n              \\'owner_references\\': None,\\n              \\'resource_version\\': \\'8505923\\',\\n              \\'self_link\\': None,\\n              \\'uid\\': \\'85c28b44-6510-4f9f-9f60-8de2733ff365\\'},\\n \\'spec\\': {\\'allocate_load_balancer_node_ports\\': None,\\n          \\'cluster_i_ps\\': [\\'10.43.156.154\\'],\\n          \\'cluster_ip\\': \\'10.43.156.154\\',\\n          \\'external_i_ps\\': None,\\n          \\'external_name\\': None,\\n          \\'external_traffic_policy\\': \\'Cluster\\',\\n          \\'health_check_node_port\\': None,\\n          \\'internal_traffic_policy\\': \\'Cluster\\',\\n          \\'ip_families\\': [\\'IPv4\\'],\\n          \\'ip_family_policy\\': \\'SingleStack\\',\\n          \\'load_balancer_class\\': None,\\n          \\'load_balancer_ip\\': None,\\n          \\'load_balancer_source_ranges\\': None,\\n          \\'ports\\': [{\\'app_protocol\\': None,\\n                     \\'name\\': \\'http\\',\\n                     \\'node_port\\': 31162,\\n                     \\'port\\': 8000,\\n                     \\'protocol\\': \\'TCP\\',\\n                     \\'target_port\\': 8000}],\\n          \\'publish_not_ready_addresses\\': None,\\n          \\'selector\\': {\\'app\\': \\'rag-tool-app\\'},\\n          \\'session_affinity\\': \\'None\\',\\n          \\'session_affinity_config\\': None,\\n          \\'type\\': \\'NodePort\\'},\\n \\'status\\': {\\'conditions\\': None, \\'load_balancer\\': {\\'ingress\\': None}}}]]'], 'failed': [{'yaml': 'apiVersion: v1\\nkind: Namespace\\nmetadata:\\n  name: tools\\n', 'error': 'Error from server (Conflict): {\"kind\":\"Status\",\"apiVersion\":\"v1\",\"metadata\":{},\"status\":\"Failure\",\"message\":\"namespaces \\\\\"tools\\\\\" already exists\",\"reason\":\"AlreadyExists\",\"details\":{\"name\":\"tools\",\"kind\":\"namespaces\"},\"code\":409}\\n'}, {'yaml': '\\napiVersion: apps/v1\\nkind: Deployment\\nmetadata:\\n  namespace: tools\\n  name: rag-tool-app\\nspec:\\n  replicas: 1\\n  selector:\\n    matchLabels:\\n      app: rag-tool-app\\n  template:\\n    metadata:\\n      labels:\\n        app: rag-tool-app\\n    spec:\\n      containers:\\n      - name: rag-tool-container\\n        image: python:3.8-slim\\n        ports:\\n        - containerPort: 8000\\n        env:\\n        - name: RAG_USE_AUTH\\n          value: \"False\"\\n        - name: RAG_MASTER_KEY\\n          value: \"\"\\n        command: [\"/bin/sh\", \"-c\"]\\n        args:\\n        - |\\n          apt-get update && apt-get install -y git\\n          git clone https://github.com/kalavai-net/tool_library.git /app/tool_library\\n          cd /app/tool_library\\n          git checkout feature/updates\\n          pip install fastapi uvicorn\\n          cd tool_library/example_tools/rag\\n          pip install -r requirements.txt\\n          uvicorn api:app --host 0.0.0.0 --port 8000\\n        resources:\\n          limits:\\n            cpu: 2\\n            memory: 4Gi\\n          requests:\\n            cpu: 2\\n            memory: 4Gi\\n        volumeMounts:\\n        - name: rag-tool-app-volume\\n          mountPath: \"/tool\"\\n      restartPolicy: Always\\n      volumes:\\n      - name: rag-tool-app-volume\\n', 'error': 'Error from server (Conflict): {\"kind\":\"Status\",\"apiVersion\":\"v1\",\"metadata\":{},\"status\":\"Failure\",\"message\":\"deployments.apps \\\\\"rag-tool-app\\\\\" already exists\",\"reason\":\"AlreadyExists\",\"details\":{\"name\":\"rag-tool-app\",\"group\":\"apps\",\"kind\":\"deployments\"},\"code\":409}\\n'}]}\n"
     ]
    }
   ],
   "source": [
    "deploy_generic_model(deployment_config)"
   ]
  },
  {
   "cell_type": "code",
   "execution_count": 2,
   "metadata": {},
   "outputs": [],
   "source": [
    "from model_library.client import ModelLibraryClient"
   ]
  },
  {
   "cell_type": "code",
   "execution_count": 9,
   "metadata": {},
   "outputs": [],
   "source": [
    "model_library_url = \"http://127.0.0.1:8001\"\n",
    "model_library_api_key = None\n",
    "\n",
    "library = ModelLibraryClient(model_library_url, model_library_api_key)\n",
    "\n"
   ]
  },
  {
   "cell_type": "code",
   "execution_count": 28,
   "metadata": {},
   "outputs": [
    {
     "ename": "KeyError",
     "evalue": "'rag_tool'",
     "output_type": "error",
     "traceback": [
      "\u001b[0;31m---------------------------------------------------------------------------\u001b[0m",
      "\u001b[0;31mKeyError\u001b[0m                                  Traceback (most recent call last)",
      "\u001b[1;32m/home/atomkins/kalavai/model-library/notebooks/RAG Deployment.ipynb Cell 11\u001b[0m line \u001b[0;36m2\n\u001b[1;32m      <a href='vscode-notebook-cell:/home/atomkins/kalavai/model-library/notebooks/RAG%20Deployment.ipynb#X14sZmlsZQ%3D%3D?line=0'>1</a>\u001b[0m \u001b[39m# Todo streamline this\u001b[39;00m\n\u001b[0;32m----> <a href='vscode-notebook-cell:/home/atomkins/kalavai/model-library/notebooks/RAG%20Deployment.ipynb#X14sZmlsZQ%3D%3D?line=1'>2</a>\u001b[0m rag_template \u001b[39m=\u001b[39m {t[\u001b[39m\"\u001b[39;49m\u001b[39mid\u001b[39;49m\u001b[39m\"\u001b[39;49m]:t \u001b[39mfor\u001b[39;49;00m t \u001b[39min\u001b[39;49;00m library\u001b[39m.\u001b[39;49mget_all()[\u001b[39m\"\u001b[39;49m\u001b[39mModelDeploymentTemplateCard\u001b[39;49m\u001b[39m\"\u001b[39;49m]}[\u001b[39m\"\u001b[39;49m\u001b[39mrag_tool\u001b[39;49m\u001b[39m\"\u001b[39;49m]\n",
      "\u001b[0;31mKeyError\u001b[0m: 'rag_tool'"
     ]
    }
   ],
   "source": [
    "# Todo streamline this\n",
    "rag_template = {t[\"id\"]:t for t in library.get_all()[\"ModelDeploymentTemplateCard\"]}[\"rag_tool\"]"
   ]
  },
  {
   "cell_type": "code",
   "execution_count": 27,
   "metadata": {},
   "outputs": [
    {
     "name": "stdout",
     "output_type": "stream",
     "text": [
      "<Response [200]>\n"
     ]
    }
   ],
   "source": [
    "\n",
    "from model_library.models import *\n",
    "namespace = \"adam\"\n",
    "API_key = \"XXX\"\n",
    "\n",
    "# Create a User\n",
    "user = UserInformation(id=namespace, namespace=namespace, API_key=API_key)\n",
    "\n",
    "# Create a Config\n",
    "config = library.create_kubernetes_deployment(\n",
    "    template=rag_template,\n",
    "    user=user.dict()\n",
    ")"
   ]
  },
  {
   "cell_type": "code",
   "execution_count": null,
   "metadata": {},
   "outputs": [],
   "source": [
    "\n",
    "# Deploy Model\n",
    "kube_watcher = KubeWatcherClient(kube_watcher_url, kube_watcher_api_key)\n",
    "res = kube_watcher.deploy_generic_model({\"config\":st.session_state.config})"
   ]
  }
 ],
 "metadata": {
  "kernelspec": {
   "display_name": "kalavai",
   "language": "python",
   "name": "python3"
  },
  "language_info": {
   "codemirror_mode": {
    "name": "ipython",
    "version": 3
   },
   "file_extension": ".py",
   "mimetype": "text/x-python",
   "name": "python",
   "nbconvert_exporter": "python",
   "pygments_lexer": "ipython3",
   "version": "3.9.15"
  }
 },
 "nbformat": 4,
 "nbformat_minor": 2
}
