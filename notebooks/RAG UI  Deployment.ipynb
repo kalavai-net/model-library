{
 "cells": [
  {
   "cell_type": "markdown",
   "metadata": {},
   "source": [
    "# Rag Deployment Development"
   ]
  },
  {
   "cell_type": "code",
   "execution_count": 1,
   "metadata": {},
   "outputs": [
    {
     "name": "stderr",
     "output_type": "stream",
     "text": [
      "/home/adam/miniconda3/envs/kalavai/lib/python3.11/site-packages/pydantic/_internal/_fields.py:149: UserWarning: Field \"model_card\" has conflict with protected namespace \"model_\".\n",
      "\n",
      "You may be able to resolve this warning by setting `model_config['protected_namespaces'] = ()`.\n",
      "  warnings.warn(\n",
      "/home/adam/miniconda3/envs/kalavai/lib/python3.11/site-packages/pydantic/_internal/_fields.py:149: UserWarning: Field \"model_deployment_template\" has conflict with protected namespace \"model_\".\n",
      "\n",
      "You may be able to resolve this warning by setting `model_config['protected_namespaces'] = ()`.\n",
      "  warnings.warn(\n"
     ]
    }
   ],
   "source": [
    "from model_library.cards.architectures import LOCAL_AI_ARCHITECTURE\n",
    "from model_library.cards.models import LOCAL_AI_MODEL_CARD\n",
    "from model_library.cards.deployments import LOCAL_AI_DEPLOYMENT_CARD\n",
    "from model_library.cards.model_deployment_templates import LOCAL_AI_DEPLOYMENT_TEMPLATE_CARD\n",
    "from model_library.models import *   \n",
    "from model_library import ARCHITECTURES, MODELS, DEPLOYMENTS, MODEL_DEPLOYMENT_TEMPLATES"
   ]
  },
  {
   "cell_type": "code",
   "execution_count": 2,
   "metadata": {},
   "outputs": [],
   "source": [
    "user = UserInformation(\n",
    "    id=\"2\",\n",
    "    API_key= \"XXXX-XXXX-XXXX-XXXX\",\n",
    "    namespace = \"adam\",\n",
    ")\n",
    "\n"
   ]
  },
  {
   "cell_type": "code",
   "execution_count": 3,
   "metadata": {},
   "outputs": [
    {
     "ename": "ValidationError",
     "evalue": "1 validation error for ArchitectureCard\nhealth_endpoint\n  Input should be a valid string [type=string_type, input_value=None, input_type=NoneType]\n    For further information visit https://errors.pydantic.dev/2.5/v/string_type",
     "output_type": "error",
     "traceback": [
      "\u001b[0;31m---------------------------------------------------------------------------\u001b[0m",
      "\u001b[0;31mValidationError\u001b[0m                           Traceback (most recent call last)",
      "Cell \u001b[0;32mIn[3], line 4\u001b[0m\n\u001b[1;32m      1\u001b[0m \u001b[38;5;28;01mfrom\u001b[39;00m \u001b[38;5;21;01muuid\u001b[39;00m \u001b[38;5;28;01mimport\u001b[39;00m uuid4\n\u001b[1;32m      3\u001b[0m \u001b[38;5;66;03m# ArchitectureCard for the deployment setup\u001b[39;00m\n\u001b[0;32m----> 4\u001b[0m CHAT_UI_ARCHITECTURE_CARD \u001b[38;5;241m=\u001b[39m \u001b[43mArchitectureCard\u001b[49m\u001b[43m(\u001b[49m\n\u001b[1;32m      5\u001b[0m \u001b[43m    \u001b[49m\u001b[38;5;28;43mid\u001b[39;49m\u001b[38;5;241;43m=\u001b[39;49m\u001b[38;5;28;43mstr\u001b[39;49m\u001b[43m(\u001b[49m\u001b[43muuid4\u001b[49m\u001b[43m(\u001b[49m\u001b[43m)\u001b[49m\u001b[43m)\u001b[49m\u001b[43m,\u001b[49m\n\u001b[1;32m      6\u001b[0m \u001b[43m    \u001b[49m\u001b[43mdeployment_yaml\u001b[49m\u001b[38;5;241;43m=\u001b[39;49m\u001b[38;5;124;43m\"\u001b[39;49m\u001b[38;5;124;43mpath/to/chat_ui_app_deployment.yaml\u001b[39;49m\u001b[38;5;124;43m\"\u001b[39;49m\u001b[43m,\u001b[49m\n\u001b[1;32m      7\u001b[0m \u001b[43m    \u001b[49m\u001b[43mname\u001b[49m\u001b[38;5;241;43m=\u001b[39;49m\u001b[38;5;124;43m\"\u001b[39;49m\u001b[38;5;124;43mChat UI Deployment\u001b[39;49m\u001b[38;5;124;43m\"\u001b[39;49m\u001b[43m,\u001b[49m\n\u001b[1;32m      8\u001b[0m \u001b[43m    \u001b[49m\u001b[43mdescription\u001b[49m\u001b[38;5;241;43m=\u001b[39;49m\u001b[38;5;124;43m\"\u001b[39;49m\u001b[38;5;124;43mDeployment architecture for the Chat UI application.\u001b[39;49m\u001b[38;5;124;43m\"\u001b[39;49m\u001b[43m,\u001b[49m\n\u001b[1;32m      9\u001b[0m \u001b[43m    \u001b[49m\u001b[43mtags\u001b[49m\u001b[38;5;241;43m=\u001b[39;49m\u001b[43m{\u001b[49m\u001b[38;5;124;43m\"\u001b[39;49m\u001b[38;5;124;43mcontainer_image\u001b[39;49m\u001b[38;5;124;43m\"\u001b[39;49m\u001b[43m:\u001b[49m\u001b[43m \u001b[49m\u001b[38;5;124;43m\"\u001b[39;49m\u001b[38;5;124;43mpython:3.11-slim\u001b[39;49m\u001b[38;5;124;43m\"\u001b[39;49m\u001b[43m,\u001b[49m\u001b[43m \u001b[49m\u001b[38;5;124;43m\"\u001b[39;49m\u001b[38;5;124;43mcontainer_name\u001b[39;49m\u001b[38;5;124;43m\"\u001b[39;49m\u001b[43m:\u001b[49m\u001b[43m \u001b[49m\u001b[38;5;124;43m\"\u001b[39;49m\u001b[38;5;124;43mchat-ui-container\u001b[39;49m\u001b[38;5;124;43m\"\u001b[39;49m\u001b[43m}\u001b[49m\u001b[43m,\u001b[49m\n\u001b[1;32m     10\u001b[0m \u001b[43m    \u001b[49m\u001b[43mhealth_endpoint\u001b[49m\u001b[38;5;241;43m=\u001b[39;49m\u001b[38;5;28;43;01mNone\u001b[39;49;00m\u001b[43m  \u001b[49m\u001b[38;5;66;43;03m# or specify if applicable\u001b[39;49;00m\n\u001b[1;32m     11\u001b[0m \u001b[43m)\u001b[49m\n\u001b[1;32m     13\u001b[0m \u001b[38;5;66;03m# ModelCard for environment configuration\u001b[39;00m\n\u001b[1;32m     14\u001b[0m CHAT_UI_MODEL_CARD \u001b[38;5;241m=\u001b[39m ModelCard(\n\u001b[1;32m     15\u001b[0m     \u001b[38;5;28mid\u001b[39m\u001b[38;5;241m=\u001b[39m\u001b[38;5;28mstr\u001b[39m(uuid4()),\n\u001b[1;32m     16\u001b[0m     architecture\u001b[38;5;241m=\u001b[39mCHAT_UI_ARCHITECTURE_CARD,\n\u001b[0;32m   (...)\u001b[0m\n\u001b[1;32m     26\u001b[0m     }\n\u001b[1;32m     27\u001b[0m )\n",
      "File \u001b[0;32m~/miniconda3/envs/kalavai/lib/python3.11/site-packages/pydantic/main.py:164\u001b[0m, in \u001b[0;36mBaseModel.__init__\u001b[0;34m(__pydantic_self__, **data)\u001b[0m\n\u001b[1;32m    162\u001b[0m \u001b[38;5;66;03m# `__tracebackhide__` tells pytest and some other tools to omit this function from tracebacks\u001b[39;00m\n\u001b[1;32m    163\u001b[0m __tracebackhide__ \u001b[38;5;241m=\u001b[39m \u001b[38;5;28;01mTrue\u001b[39;00m\n\u001b[0;32m--> 164\u001b[0m \u001b[43m__pydantic_self__\u001b[49m\u001b[38;5;241;43m.\u001b[39;49m\u001b[43m__pydantic_validator__\u001b[49m\u001b[38;5;241;43m.\u001b[39;49m\u001b[43mvalidate_python\u001b[49m\u001b[43m(\u001b[49m\u001b[43mdata\u001b[49m\u001b[43m,\u001b[49m\u001b[43m \u001b[49m\u001b[43mself_instance\u001b[49m\u001b[38;5;241;43m=\u001b[39;49m\u001b[43m__pydantic_self__\u001b[49m\u001b[43m)\u001b[49m\n",
      "\u001b[0;31mValidationError\u001b[0m: 1 validation error for ArchitectureCard\nhealth_endpoint\n  Input should be a valid string [type=string_type, input_value=None, input_type=NoneType]\n    For further information visit https://errors.pydantic.dev/2.5/v/string_type"
     ]
    }
   ],
   "source": [
    "from uuid import uuid4\n",
    "\n",
    "# ArchitectureCard for the deployment setup\n",
    "CHAT_UI_ARCHITECTURE_CARD = ArchitectureCard(\n",
    "    id=str(uuid4()),\n",
    "    deployment_yaml=\"path/to/chat_ui_app_deployment.yaml\",\n",
    "    name=\"Chat UI Deployment\",\n",
    "    description=\"Deployment architecture for the Chat UI application.\",\n",
    "    tags={},\n",
    "    health_endpoint=\"/health\"\n",
    ")\n",
    "\n",
    "# ModelCard for environment configuration\n",
    "CHAT_UI_MODEL_CARD = ModelCard(\n",
    "    id=str(uuid4()),\n",
    "    architecture=CHAT_UI_ARCHITECTURE_CARD,\n",
    "    params={}\n",
    ")\n",
    "\n",
    "# DeploymentCard for resource and volume specifications\n",
    "CHAT_UI_DEPLOYMENT_CARD = DeploymentCard(\n",
    "    id=str(uuid4()),\n",
    "    params={\n",
    "        \"cpu_limits\": \"2\",\n",
    "        \"memory_limits\": \"4Gi\",\n",
    "        \"cpu_requests\": \"2\",\n",
    "        \"memory_requests\": \"4Gi\",\n",
    "        \"replicas\": 1,\n",
    "    }\n",
    ")\n",
    "\n",
    "# ModelDeploymentTemplateCard for overall deployment template\n",
    "CHAT_UI_DEPLOYMENT_TEMPLATE_CARD = ModelDeploymentTemplateCard(\n",
    "    id=str(uuid4()),\n",
    "    name=\"Chat UI App Deployment\",\n",
    "    description=\"Deployment template for Chat UI application with Python 3.11-slim container.\",\n",
    "    model_card=CHAT_UI_MODEL_CARD,\n",
    "    deployment_card=CHAT_UI_DEPLOYMENT_CARD,\n",
    "    benchmarks=[],\n",
    "    params={\n",
    "        \"deployment_name\": \"chat-ui-app\",\n",
    "        \"llm_api_key\": \"None\",\n",
    "        \"llm_model\": \"phi-2\",\n",
    "        \"llm_base_url\": \"http://178.62.13.8:31095\",\n",
    "        \"retriever_base_url\": \"http://178.62.13.8:31645\",\n",
    "        \"retriever_api_key\": \"None\",\n",
    "        \"chat_use_auth\": \"True\",\n",
    "        \"username\": \"Adam\",\n",
    "        \"password\": \"kalavai\"\n",
    "    }\n",
    ")\n"
   ]
  },
  {
   "cell_type": "code",
   "execution_count": 7,
   "metadata": {},
   "outputs": [
    {
     "name": "stdout",
     "output_type": "stream",
     "text": [
      "YAML string written to rag_deployment_example.yaml\n"
     ]
    }
   ],
   "source": [
    "from model_library.cards.model_deployment_templates import RAG_DEPLOYMENT_TEMPLATE_CARD\n",
    "\n",
    "model_deployment = ModelDeploymentCard(\n",
    "    user_information=user,\n",
    "    model_deployment_template=RAG_DEPLOYMENT_TEMPLATE_CARD,\n",
    ")\n",
    "\n",
    "deployment_config = model_deployment.extract_deployment_config()\n",
    "\n",
    "file_path = \"rag_deployment_example.yaml\"  # Replace with your desired file path\n",
    "\n",
    "# Writing the string to a file\n",
    "with open(file_path, 'w') as file:\n",
    "    file.write(deployment_config)\n",
    "\n",
    "print(f\"YAML string written to {file_path}\")\n",
    "\n"
   ]
  },
  {
   "cell_type": "code",
   "execution_count": null,
   "metadata": {},
   "outputs": [],
   "source": [
    "import requests\n",
    "import json\n",
    "\n",
    "def deploy_generic_model(config):\n",
    "    # Read the configuration from the file\n",
    "\n",
    "    # Prepare the request data\n",
    "    data = {\n",
    "        \"config\": config\n",
    "    }\n",
    "\n",
    "    # Define the URL and headers\n",
    "    url = \"http://0.0.0.0:8000/v1/deploy_generic_model\"\n",
    "    headers = {\n",
    "        \"accept\": \"application/json\",\n",
    "        \"Content-Type\": \"application/json\"\n",
    "    }\n",
    "\n",
    "    # Make the POST request\n",
    "    response = requests.post(url, headers=headers, data=json.dumps(data))\n",
    "\n",
    "    # Check the response\n",
    "    if response.status_code == 200:\n",
    "        print(\"Deployment successful.\")\n",
    "        print(response.json())\n",
    "    else:\n",
    "        print(f\"Deployment failed with status code {response.status_code}.\")\n",
    "        print(response.text)\n",
    "\n",
    "\n"
   ]
  },
  {
   "cell_type": "code",
   "execution_count": null,
   "metadata": {},
   "outputs": [
    {
     "name": "stdout",
     "output_type": "stream",
     "text": [
      "Deployment successful.\n",
      "{'successful': ['[[{\\'api_version\\': \\'v1\\',\\n \\'kind\\': \\'Service\\',\\n \\'metadata\\': {\\'annotations\\': None,\\n              \\'creation_timestamp\\': datetime.datetime(2024, 2, 5, 16, 37, 41, tzinfo=tzutc()),\\n              \\'deletion_grace_period_seconds\\': None,\\n              \\'deletion_timestamp\\': None,\\n              \\'finalizers\\': None,\\n              \\'generate_name\\': None,\\n              \\'generation\\': None,\\n              \\'labels\\': {\\'app\\': \\'rag-tool-app\\'},\\n              \\'managed_fields\\': [{\\'api_version\\': \\'v1\\',\\n                                  \\'fields_type\\': \\'FieldsV1\\',\\n                                  \\'fields_v1\\': {\\'f:metadata\\': {\\'f:labels\\': {\\'.\\': {},\\n                                                                            \\'f:app\\': {}}},\\n                                                \\'f:spec\\': {\\'f:externalTrafficPolicy\\': {},\\n                                                           \\'f:internalTrafficPolicy\\': {},\\n                                                           \\'f:ports\\': {\\'.\\': {},\\n                                                                       \\'k:{\"port\":8000,\"protocol\":\"TCP\"}\\': {\\'.\\': {},\\n                                                                                                            \\'f:name\\': {},\\n                                                                                                            \\'f:port\\': {},\\n                                                                                                            \\'f:protocol\\': {},\\n                                                                                                            \\'f:targetPort\\': {}}},\\n                                                           \\'f:selector\\': {},\\n                                                           \\'f:sessionAffinity\\': {},\\n                                                           \\'f:type\\': {}}},\\n                                  \\'manager\\': \\'OpenAPI-Generator\\',\\n                                  \\'operation\\': \\'Update\\',\\n                                  \\'subresource\\': None,\\n                                  \\'time\\': datetime.datetime(2024, 2, 5, 16, 37, 41, tzinfo=tzutc())}],\\n              \\'name\\': \\'rag-tool-app-service\\',\\n              \\'namespace\\': \\'tools\\',\\n              \\'owner_references\\': None,\\n              \\'resource_version\\': \\'8505923\\',\\n              \\'self_link\\': None,\\n              \\'uid\\': \\'85c28b44-6510-4f9f-9f60-8de2733ff365\\'},\\n \\'spec\\': {\\'allocate_load_balancer_node_ports\\': None,\\n          \\'cluster_i_ps\\': [\\'10.43.156.154\\'],\\n          \\'cluster_ip\\': \\'10.43.156.154\\',\\n          \\'external_i_ps\\': None,\\n          \\'external_name\\': None,\\n          \\'external_traffic_policy\\': \\'Cluster\\',\\n          \\'health_check_node_port\\': None,\\n          \\'internal_traffic_policy\\': \\'Cluster\\',\\n          \\'ip_families\\': [\\'IPv4\\'],\\n          \\'ip_family_policy\\': \\'SingleStack\\',\\n          \\'load_balancer_class\\': None,\\n          \\'load_balancer_ip\\': None,\\n          \\'load_balancer_source_ranges\\': None,\\n          \\'ports\\': [{\\'app_protocol\\': None,\\n                     \\'name\\': \\'http\\',\\n                     \\'node_port\\': 31162,\\n                     \\'port\\': 8000,\\n                     \\'protocol\\': \\'TCP\\',\\n                     \\'target_port\\': 8000}],\\n          \\'publish_not_ready_addresses\\': None,\\n          \\'selector\\': {\\'app\\': \\'rag-tool-app\\'},\\n          \\'session_affinity\\': \\'None\\',\\n          \\'session_affinity_config\\': None,\\n          \\'type\\': \\'NodePort\\'},\\n \\'status\\': {\\'conditions\\': None, \\'load_balancer\\': {\\'ingress\\': None}}}]]'], 'failed': [{'yaml': 'apiVersion: v1\\nkind: Namespace\\nmetadata:\\n  name: tools\\n', 'error': 'Error from server (Conflict): {\"kind\":\"Status\",\"apiVersion\":\"v1\",\"metadata\":{},\"status\":\"Failure\",\"message\":\"namespaces \\\\\"tools\\\\\" already exists\",\"reason\":\"AlreadyExists\",\"details\":{\"name\":\"tools\",\"kind\":\"namespaces\"},\"code\":409}\\n'}, {'yaml': '\\napiVersion: apps/v1\\nkind: Deployment\\nmetadata:\\n  namespace: tools\\n  name: rag-tool-app\\nspec:\\n  replicas: 1\\n  selector:\\n    matchLabels:\\n      app: rag-tool-app\\n  template:\\n    metadata:\\n      labels:\\n        app: rag-tool-app\\n    spec:\\n      containers:\\n      - name: rag-tool-container\\n        image: python:3.8-slim\\n        ports:\\n        - containerPort: 8000\\n        env:\\n        - name: RAG_USE_AUTH\\n          value: \"False\"\\n        - name: RAG_MASTER_KEY\\n          value: \"\"\\n        command: [\"/bin/sh\", \"-c\"]\\n        args:\\n        - |\\n          apt-get update && apt-get install -y git\\n          git clone https://github.com/kalavai-net/tool_library.git /app/tool_library\\n          cd /app/tool_library\\n          git checkout feature/updates\\n          pip install fastapi uvicorn\\n          cd tool_library/example_tools/rag\\n          pip install -r requirements.txt\\n          uvicorn api:app --host 0.0.0.0 --port 8000\\n        resources:\\n          limits:\\n            cpu: 2\\n            memory: 4Gi\\n          requests:\\n            cpu: 2\\n            memory: 4Gi\\n        volumeMounts:\\n        - name: rag-tool-app-volume\\n          mountPath: \"/tool\"\\n      restartPolicy: Always\\n      volumes:\\n      - name: rag-tool-app-volume\\n', 'error': 'Error from server (Conflict): {\"kind\":\"Status\",\"apiVersion\":\"v1\",\"metadata\":{},\"status\":\"Failure\",\"message\":\"deployments.apps \\\\\"rag-tool-app\\\\\" already exists\",\"reason\":\"AlreadyExists\",\"details\":{\"name\":\"rag-tool-app\",\"group\":\"apps\",\"kind\":\"deployments\"},\"code\":409}\\n'}]}\n"
     ]
    }
   ],
   "source": [
    "deploy_generic_model(deployment_config)"
   ]
  }
 ],
 "metadata": {
  "kernelspec": {
   "display_name": "kalavai",
   "language": "python",
   "name": "python3"
  },
  "language_info": {
   "codemirror_mode": {
    "name": "ipython",
    "version": 3
   },
   "file_extension": ".py",
   "mimetype": "text/x-python",
   "name": "python",
   "nbconvert_exporter": "python",
   "pygments_lexer": "ipython3",
   "version": "3.11.7"
  }
 },
 "nbformat": 4,
 "nbformat_minor": 2
}
