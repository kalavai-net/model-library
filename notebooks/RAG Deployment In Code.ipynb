{
 "cells": [
  {
   "cell_type": "markdown",
   "metadata": {},
   "source": [
    "# Rag Deployment Development\n",
    "\n",
    "This is a quick example how we can easily deploy a rag service in code.\n"
   ]
  },
  {
   "cell_type": "code",
   "execution_count": 6,
   "metadata": {},
   "outputs": [],
   "source": [
    "# Use the Model Library to pull the \n",
    "from model_library.client import ModelLibraryClient\n",
    "model_library_url = \"http://127.0.0.1:8002\"\n",
    "model_library_api_key = \"adam\"\n",
    "library = ModelLibraryClient(model_library_url, model_library_api_key)"
   ]
  },
  {
   "cell_type": "code",
   "execution_count": 7,
   "metadata": {},
   "outputs": [
    {
     "data": {
      "text/plain": [
       "{'detail': 'Invalid API Key'}"
      ]
     },
     "execution_count": 7,
     "metadata": {},
     "output_type": "execute_result"
    }
   ],
   "source": [
    "library.get_all()"
   ]
  },
  {
   "cell_type": "code",
   "execution_count": 5,
   "metadata": {},
   "outputs": [
    {
     "ename": "KeyError",
     "evalue": "'ModelDeploymentTemplateCard'",
     "output_type": "error",
     "traceback": [
      "\u001b[0;31m---------------------------------------------------------------------------\u001b[0m",
      "\u001b[0;31mKeyError\u001b[0m                                  Traceback (most recent call last)",
      "\u001b[1;32m/home/atomkins/kalavai/model-library/notebooks/RAG Deployment In Code.ipynb Cell 3\u001b[0m line \u001b[0;36m2\n\u001b[1;32m      <a href='vscode-notebook-cell:/home/atomkins/kalavai/model-library/notebooks/RAG%20Deployment%20In%20Code.ipynb#X20sZmlsZQ%3D%3D?line=0'>1</a>\u001b[0m \u001b[39m# Todo streamline this\u001b[39;00m\n\u001b[0;32m----> <a href='vscode-notebook-cell:/home/atomkins/kalavai/model-library/notebooks/RAG%20Deployment%20In%20Code.ipynb#X20sZmlsZQ%3D%3D?line=1'>2</a>\u001b[0m rag_template \u001b[39m=\u001b[39m {t[\u001b[39m\"\u001b[39m\u001b[39mid\u001b[39m\u001b[39m\"\u001b[39m]:t \u001b[39mfor\u001b[39;00m t \u001b[39min\u001b[39;00m library\u001b[39m.\u001b[39;49mget_all()[\u001b[39m\"\u001b[39;49m\u001b[39mModelDeploymentTemplateCard\u001b[39;49m\u001b[39m\"\u001b[39;49m]}[\u001b[39m\"\u001b[39m\u001b[39mrag-tool\u001b[39m\u001b[39m\"\u001b[39m]\n",
      "\u001b[0;31mKeyError\u001b[0m: 'ModelDeploymentTemplateCard'"
     ]
    }
   ],
   "source": [
    "# Todo streamline this\n",
    "rag_template = {t[\"id\"]:t for t in library.get_all()[\"ModelDeploymentTemplateCard\"]}[\"rag-tool\"]"
   ]
  },
  {
   "cell_type": "code",
   "execution_count": 45,
   "metadata": {},
   "outputs": [
    {
     "name": "stdout",
     "output_type": "stream",
     "text": [
      "<Response [200]>\n"
     ]
    }
   ],
   "source": [
    "\n",
    "from model_library.models import *\n",
    "namespace = \"adam2\"\n",
    "API_key = \"XXX\"\n",
    "\n",
    "# Create a User\n",
    "user = UserInformation(id=namespace, namespace=namespace, API_key=API_key)\n",
    "\n",
    "# Create a Config\n",
    "config = library.create_kubernetes_deployment(\n",
    "    template=rag_template,\n",
    "    user=user.dict()\n",
    ")"
   ]
  },
  {
   "cell_type": "code",
   "execution_count": null,
   "metadata": {},
   "outputs": [],
   "source": [
    "# Deploy Model using a Client\n",
    "#kube_watcher_url = \n",
    "#kube_watcher_api_key = \n",
    "#kube_watcher = KubeWatcherClient(kube_watcher_url, kube_watcher_api_key)\n",
    "#res = kube_watcher.deploy_generic_model({\"config\":st.session_state.config})"
   ]
  },
  {
   "cell_type": "code",
   "execution_count": 46,
   "metadata": {},
   "outputs": [
    {
     "data": {
      "text/plain": [
       "{'successful': [\"[[{'api_version': 'v1',\\n 'kind': 'Namespace',\\n 'metadata': {'annotations': None,\\n              'creation_timestamp': datetime.datetime(2024, 3, 4, 10, 56, 13, tzinfo=tzutc()),\\n              'deletion_grace_period_seconds': None,\\n              'deletion_timestamp': None,\\n              'finalizers': None,\\n              'generate_name': None,\\n              'generation': None,\\n              'labels': {'kubernetes.io/metadata.name': 'adam2'},\\n              'managed_fields': [{'api_version': 'v1',\\n                                  'fields_type': 'FieldsV1',\\n                                  'fields_v1': {'f:metadata': {'f:labels': {'.': {},\\n                                                                            'f:kubernetes.io/metadata.name': {}}}},\\n                                  'manager': 'OpenAPI-Generator',\\n                                  'operation': 'Update',\\n                                  'subresource': None,\\n                                  'time': datetime.datetime(2024, 3, 4, 10, 56, 13, tzinfo=tzutc())}],\\n              'name': 'adam2',\\n              'namespace': None,\\n              'owner_references': None,\\n              'resource_version': '16319757',\\n              'self_link': None,\\n              'uid': '063e7fd2-69a4-4d48-9069-105adb210166'},\\n 'spec': {'finalizers': ['kubernetes']},\\n 'status': {'conditions': None, 'phase': 'Active'}}]]\",\n",
       "  '[[{\\'api_version\\': \\'apps/v1\\',\\n \\'kind\\': \\'Deployment\\',\\n \\'metadata\\': {\\'annotations\\': None,\\n              \\'creation_timestamp\\': datetime.datetime(2024, 3, 4, 10, 56, 13, tzinfo=tzutc()),\\n              \\'deletion_grace_period_seconds\\': None,\\n              \\'deletion_timestamp\\': None,\\n              \\'finalizers\\': None,\\n              \\'generate_name\\': None,\\n              \\'generation\\': 1,\\n              \\'labels\\': None,\\n              \\'managed_fields\\': [{\\'api_version\\': \\'apps/v1\\',\\n                                  \\'fields_type\\': \\'FieldsV1\\',\\n                                  \\'fields_v1\\': {\\'f:spec\\': {\\'f:progressDeadlineSeconds\\': {},\\n                                                           \\'f:replicas\\': {},\\n                                                           \\'f:revisionHistoryLimit\\': {},\\n                                                           \\'f:selector\\': {},\\n                                                           \\'f:strategy\\': {\\'f:rollingUpdate\\': {\\'.\\': {},\\n                                                                                              \\'f:maxSurge\\': {},\\n                                                                                              \\'f:maxUnavailable\\': {}},\\n                                                                          \\'f:type\\': {}},\\n                                                           \\'f:template\\': {\\'f:metadata\\': {\\'f:labels\\': {\\'.\\': {},\\n                                                                                                      \\'f:app\\': {}}},\\n                                                                          \\'f:spec\\': {\\'f:containers\\': {\\'k:{\"name\":\"rag-tool-container\"}\\': {\\'.\\': {},\\n                                                                                                                                          \\'f:args\\': {},\\n                                                                                                                                          \\'f:command\\': {},\\n                                                                                                                                          \\'f:env\\': {\\'.\\': {},\\n                                                                                                                                                    \\'k:{\"name\":\"RAG_MASTER_KEY\"}\\': {\\'.\\': {},\\n                                                                                                                                                                                    \\'f:name\\': {}},\\n                                                                                                                                                    \\'k:{\"name\":\"RAG_USE_AUTH\"}\\': {\\'.\\': {},\\n                                                                                                                                                                                  \\'f:name\\': {},\\n                                                                                                                                                                                  \\'f:value\\': {}}},\\n                                                                                                                                          \\'f:image\\': {},\\n                                                                                                                                          \\'f:imagePullPolicy\\': {},\\n                                                                                                                                          \\'f:name\\': {},\\n                                                                                                                                          \\'f:ports\\': {\\'.\\': {},\\n                                                                                                                                                      \\'k:{\"containerPort\":8000,\"protocol\":\"TCP\"}\\': {\\'.\\': {},\\n                                                                                                                                                                                                    \\'f:containerPort\\': {},\\n                                                                                                                                                                                                    \\'f:protocol\\': {}}},\\n                                                                                                                                          \\'f:resources\\': {\\'.\\': {},\\n                                                                                                                                                          \\'f:limits\\': {\\'.\\': {},\\n                                                                                                                                                                       \\'f:cpu\\': {},\\n                                                                                                                                                                       \\'f:memory\\': {}},\\n                                                                                                                                                          \\'f:requests\\': {\\'.\\': {},\\n                                                                                                                                                                         \\'f:cpu\\': {},\\n                                                                                                                                                                         \\'f:memory\\': {}}},\\n                                                                                                                                          \\'f:terminationMessagePath\\': {},\\n                                                                                                                                          \\'f:terminationMessagePolicy\\': {},\\n                                                                                                                                          \\'f:volumeMounts\\': {\\'.\\': {},\\n                                                                                                                                                             \\'k:{\"mountPath\":\"/tool\"}\\': {\\'.\\': {},\\n                                                                                                                                                                                         \\'f:mountPath\\': {},\\n                                                                                                                                                                                         \\'f:name\\': {}}}}},\\n                                                                                     \\'f:dnsPolicy\\': {},\\n                                                                                     \\'f:restartPolicy\\': {},\\n                                                                                     \\'f:schedulerName\\': {},\\n                                                                                     \\'f:securityContext\\': {},\\n                                                                                     \\'f:terminationGracePeriodSeconds\\': {},\\n                                                                                     \\'f:volumes\\': {\\'.\\': {},\\n                                                                                                   \\'k:{\"name\":\"rag-tool-test-volume\"}\\': {\\'.\\': {},\\n                                                                                                                                         \\'f:emptyDir\\': {},\\n                                                                                                                                         \\'f:name\\': {}}}}}}},\\n                                  \\'manager\\': \\'OpenAPI-Generator\\',\\n                                  \\'operation\\': \\'Update\\',\\n                                  \\'subresource\\': None,\\n                                  \\'time\\': datetime.datetime(2024, 3, 4, 10, 56, 13, tzinfo=tzutc())}],\\n              \\'name\\': \\'rag-tool-test\\',\\n              \\'namespace\\': \\'adam2\\',\\n              \\'owner_references\\': None,\\n              \\'resource_version\\': \\'16319760\\',\\n              \\'self_link\\': None,\\n              \\'uid\\': \\'f868355d-3c05-4e12-ba44-262c91be0dc1\\'},\\n \\'spec\\': {\\'min_ready_seconds\\': None,\\n          \\'paused\\': None,\\n          \\'progress_deadline_seconds\\': 600,\\n          \\'replicas\\': 1,\\n          \\'revision_history_limit\\': 10,\\n          \\'selector\\': {\\'match_expressions\\': None,\\n                       \\'match_labels\\': {\\'app\\': \\'rag-tool-test\\'}},\\n          \\'strategy\\': {\\'rolling_update\\': {\\'max_surge\\': \\'25%\\',\\n                                          \\'max_unavailable\\': \\'25%\\'},\\n                       \\'type\\': \\'RollingUpdate\\'},\\n          \\'template\\': {\\'metadata\\': {\\'annotations\\': None,\\n                                    \\'creation_timestamp\\': None,\\n                                    \\'deletion_grace_period_seconds\\': None,\\n                                    \\'deletion_timestamp\\': None,\\n                                    \\'finalizers\\': None,\\n                                    \\'generate_name\\': None,\\n                                    \\'generation\\': None,\\n                                    \\'labels\\': {\\'app\\': \\'rag-tool-test\\'},\\n                                    \\'managed_fields\\': None,\\n                                    \\'name\\': None,\\n                                    \\'namespace\\': None,\\n                                    \\'owner_references\\': None,\\n                                    \\'resource_version\\': None,\\n                                    \\'self_link\\': None,\\n                                    \\'uid\\': None},\\n                       \\'spec\\': {\\'active_deadline_seconds\\': None,\\n                                \\'affinity\\': None,\\n                                \\'automount_service_account_token\\': None,\\n                                \\'containers\\': [{\\'args\\': [\\'apt-get update && \\'\\n                                                         \\'apt-get install -y \\'\\n                                                         \\'git\\\\n\\'\\n                                                         \\'git clone \\'\\n                                                         \\'https://github.com/kalavai-net/tool_library.git \\'\\n                                                         \\'/app/tool_library\\\\n\\'\\n                                                         \\'cd \\'\\n                                                         \\'/app/tool_library\\\\n\\'\\n                                                         \\'git checkout \\'\\n                                                         \\'feature/updates\\\\n\\'\\n                                                         \\'pip install fastapi \\'\\n                                                         \\'uvicorn\\\\n\\'\\n                                                         \\'cd \\'\\n                                                         \\'tool_library/example_tools/rag\\\\n\\'\\n                                                         \\'pip install -r \\'\\n                                                         \\'requirements.txt\\\\n\\'\\n                                                         \\'uvicorn api:app \\'\\n                                                         \\'--host 0.0.0.0 \\'\\n                                                         \\'--port 8000\\\\n\\'],\\n                                                \\'command\\': [\\'/bin/sh\\', \\'-c\\'],\\n                                                \\'env\\': [{\\'name\\': \\'RAG_USE_AUTH\\',\\n                                                         \\'value\\': \\'False\\',\\n                                                         \\'value_from\\': None},\\n                                                        {\\'name\\': \\'RAG_MASTER_KEY\\',\\n                                                         \\'value\\': None,\\n                                                         \\'value_from\\': None}],\\n                                                \\'env_from\\': None,\\n                                                \\'image\\': \\'python:3.8-slim\\',\\n                                                \\'image_pull_policy\\': \\'IfNotPresent\\',\\n                                                \\'lifecycle\\': None,\\n                                                \\'liveness_probe\\': None,\\n                                                \\'name\\': \\'rag-tool-container\\',\\n                                                \\'ports\\': [{\\'container_port\\': 8000,\\n                                                           \\'host_ip\\': None,\\n                                                           \\'host_port\\': None,\\n                                                           \\'name\\': None,\\n                                                           \\'protocol\\': \\'TCP\\'}],\\n                                                \\'readiness_probe\\': None,\\n                                                \\'resize_policy\\': None,\\n                                                \\'resources\\': {\\'claims\\': None,\\n                                                              \\'limits\\': {\\'cpu\\': \\'2\\',\\n                                                                         \\'memory\\': \\'4Gi\\'},\\n                                                              \\'requests\\': {\\'cpu\\': \\'2\\',\\n                                                                           \\'memory\\': \\'4Gi\\'}},\\n                                                \\'security_context\\': None,\\n                                                \\'startup_probe\\': None,\\n                                                \\'stdin\\': None,\\n                                                \\'stdin_once\\': None,\\n                                                \\'termination_message_path\\': \\'/dev/termination-log\\',\\n                                                \\'termination_message_policy\\': \\'File\\',\\n                                                \\'tty\\': None,\\n                                                \\'volume_devices\\': None,\\n                                                \\'volume_mounts\\': [{\\'mount_path\\': \\'/tool\\',\\n                                                                   \\'mount_propagation\\': None,\\n                                                                   \\'name\\': \\'rag-tool-test-volume\\',\\n                                                                   \\'read_only\\': None,\\n                                                                   \\'sub_path\\': None,\\n                                                                   \\'sub_path_expr\\': None}],\\n                                                \\'working_dir\\': None}],\\n                                \\'dns_config\\': None,\\n                                \\'dns_policy\\': \\'ClusterFirst\\',\\n                                \\'enable_service_links\\': None,\\n                                \\'ephemeral_containers\\': None,\\n                                \\'host_aliases\\': None,\\n                                \\'host_ipc\\': None,\\n                                \\'host_network\\': None,\\n                                \\'host_pid\\': None,\\n                                \\'host_users\\': None,\\n                                \\'hostname\\': None,\\n                                \\'image_pull_secrets\\': None,\\n                                \\'init_containers\\': None,\\n                                \\'node_name\\': None,\\n                                \\'node_selector\\': None,\\n                                \\'os\\': None,\\n                                \\'overhead\\': None,\\n                                \\'preemption_policy\\': None,\\n                                \\'priority\\': None,\\n                                \\'priority_class_name\\': None,\\n                                \\'readiness_gates\\': None,\\n                                \\'resource_claims\\': None,\\n                                \\'restart_policy\\': \\'Always\\',\\n                                \\'runtime_class_name\\': None,\\n                                \\'scheduler_name\\': \\'default-scheduler\\',\\n                                \\'scheduling_gates\\': None,\\n                                \\'security_context\\': {\\'fs_group\\': None,\\n                                                     \\'fs_group_change_policy\\': None,\\n                                                     \\'run_as_group\\': None,\\n                                                     \\'run_as_non_root\\': None,\\n                                                     \\'run_as_user\\': None,\\n                                                     \\'se_linux_options\\': None,\\n                                                     \\'seccomp_profile\\': None,\\n                                                     \\'supplemental_groups\\': None,\\n                                                     \\'sysctls\\': None,\\n                                                     \\'windows_options\\': None},\\n                                \\'service_account\\': None,\\n                                \\'service_account_name\\': None,\\n                                \\'set_hostname_as_fqdn\\': None,\\n                                \\'share_process_namespace\\': None,\\n                                \\'subdomain\\': None,\\n                                \\'termination_grace_period_seconds\\': 30,\\n                                \\'tolerations\\': None,\\n                                \\'topology_spread_constraints\\': None,\\n                                \\'volumes\\': [{\\'aws_elastic_block_store\\': None,\\n                                             \\'azure_disk\\': None,\\n                                             \\'azure_file\\': None,\\n                                             \\'cephfs\\': None,\\n                                             \\'cinder\\': None,\\n                                             \\'config_map\\': None,\\n                                             \\'csi\\': None,\\n                                             \\'downward_api\\': None,\\n                                             \\'empty_dir\\': {\\'medium\\': None,\\n                                                           \\'size_limit\\': None},\\n                                             \\'ephemeral\\': None,\\n                                             \\'fc\\': None,\\n                                             \\'flex_volume\\': None,\\n                                             \\'flocker\\': None,\\n                                             \\'gce_persistent_disk\\': None,\\n                                             \\'git_repo\\': None,\\n                                             \\'glusterfs\\': None,\\n                                             \\'host_path\\': None,\\n                                             \\'iscsi\\': None,\\n                                             \\'name\\': \\'rag-tool-test-volume\\',\\n                                             \\'nfs\\': None,\\n                                             \\'persistent_volume_claim\\': None,\\n                                             \\'photon_persistent_disk\\': None,\\n                                             \\'portworx_volume\\': None,\\n                                             \\'projected\\': None,\\n                                             \\'quobyte\\': None,\\n                                             \\'rbd\\': None,\\n                                             \\'scale_io\\': None,\\n                                             \\'secret\\': None,\\n                                             \\'storageos\\': None,\\n                                             \\'vsphere_volume\\': None}]}}},\\n \\'status\\': {\\'available_replicas\\': None,\\n            \\'collision_count\\': None,\\n            \\'conditions\\': None,\\n            \\'observed_generation\\': None,\\n            \\'ready_replicas\\': None,\\n            \\'replicas\\': None,\\n            \\'unavailable_replicas\\': None,\\n            \\'updated_replicas\\': None}}]]',\n",
       "  '[[{\\'api_version\\': \\'v1\\',\\n \\'kind\\': \\'Service\\',\\n \\'metadata\\': {\\'annotations\\': None,\\n              \\'creation_timestamp\\': datetime.datetime(2024, 3, 4, 10, 56, 13, tzinfo=tzutc()),\\n              \\'deletion_grace_period_seconds\\': None,\\n              \\'deletion_timestamp\\': None,\\n              \\'finalizers\\': None,\\n              \\'generate_name\\': None,\\n              \\'generation\\': None,\\n              \\'labels\\': {\\'app\\': \\'rag-tool-test\\'},\\n              \\'managed_fields\\': [{\\'api_version\\': \\'v1\\',\\n                                  \\'fields_type\\': \\'FieldsV1\\',\\n                                  \\'fields_v1\\': {\\'f:metadata\\': {\\'f:labels\\': {\\'.\\': {},\\n                                                                            \\'f:app\\': {}}},\\n                                                \\'f:spec\\': {\\'f:externalTrafficPolicy\\': {},\\n                                                           \\'f:internalTrafficPolicy\\': {},\\n                                                           \\'f:ports\\': {\\'.\\': {},\\n                                                                       \\'k:{\"port\":8000,\"protocol\":\"TCP\"}\\': {\\'.\\': {},\\n                                                                                                            \\'f:name\\': {},\\n                                                                                                            \\'f:port\\': {},\\n                                                                                                            \\'f:protocol\\': {},\\n                                                                                                            \\'f:targetPort\\': {}}},\\n                                                           \\'f:selector\\': {},\\n                                                           \\'f:sessionAffinity\\': {},\\n                                                           \\'f:type\\': {}}},\\n                                  \\'manager\\': \\'OpenAPI-Generator\\',\\n                                  \\'operation\\': \\'Update\\',\\n                                  \\'subresource\\': None,\\n                                  \\'time\\': datetime.datetime(2024, 3, 4, 10, 56, 13, tzinfo=tzutc())}],\\n              \\'name\\': \\'rag-tool-test-service\\',\\n              \\'namespace\\': \\'adam2\\',\\n              \\'owner_references\\': None,\\n              \\'resource_version\\': \\'16319772\\',\\n              \\'self_link\\': None,\\n              \\'uid\\': \\'66f829ee-7dbe-4ced-b455-8bf74c8eb8d6\\'},\\n \\'spec\\': {\\'allocate_load_balancer_node_ports\\': None,\\n          \\'cluster_i_ps\\': [\\'10.43.5.22\\'],\\n          \\'cluster_ip\\': \\'10.43.5.22\\',\\n          \\'external_i_ps\\': None,\\n          \\'external_name\\': None,\\n          \\'external_traffic_policy\\': \\'Cluster\\',\\n          \\'health_check_node_port\\': None,\\n          \\'internal_traffic_policy\\': \\'Cluster\\',\\n          \\'ip_families\\': [\\'IPv4\\'],\\n          \\'ip_family_policy\\': \\'SingleStack\\',\\n          \\'load_balancer_class\\': None,\\n          \\'load_balancer_ip\\': None,\\n          \\'load_balancer_source_ranges\\': None,\\n          \\'ports\\': [{\\'app_protocol\\': None,\\n                     \\'name\\': \\'http\\',\\n                     \\'node_port\\': 30532,\\n                     \\'port\\': 8000,\\n                     \\'protocol\\': \\'TCP\\',\\n                     \\'target_port\\': 8000}],\\n          \\'publish_not_ready_addresses\\': None,\\n          \\'selector\\': {\\'app\\': \\'rag-tool-test\\'},\\n          \\'session_affinity\\': \\'None\\',\\n          \\'session_affinity_config\\': None,\\n          \\'type\\': \\'NodePort\\'},\\n \\'status\\': {\\'conditions\\': None, \\'load_balancer\\': {\\'ingress\\': None}}}]]'],\n",
       " 'failed': []}"
      ]
     },
     "execution_count": 46,
     "metadata": {},
     "output_type": "execute_result"
    }
   ],
   "source": [
    "# Use the library \n",
    "from kube_watcher.kube_core import KubeAPI\n",
    "kube_watcher = KubeAPI(in_cluster=False)\n",
    "kube_watcher.deploy_generic_model(config)"
   ]
  },
  {
   "cell_type": "code",
   "execution_count": 37,
   "metadata": {},
   "outputs": [],
   "source": [
    "kube_watcher. "
   ]
  },
  {
   "cell_type": "code",
   "execution_count": 38,
   "metadata": {},
   "outputs": [
    {
     "data": {
      "text/plain": [
       "{'successful': [],\n",
       " 'failed': [{'yaml': 'apiVersion: v1\\nkind: Namespace\\nmetadata:\\n  name: adam\\n',\n",
       "   'error': 'Error from server (Conflict): {\"kind\":\"Status\",\"apiVersion\":\"v1\",\"metadata\":{},\"status\":\"Failure\",\"message\":\"namespaces \\\\\"adam\\\\\" already exists\",\"reason\":\"AlreadyExists\",\"details\":{\"name\":\"adam\",\"kind\":\"namespaces\"},\"code\":409}\\n'},\n",
       "  {'yaml': '\\napiVersion: apps/v1\\nkind: Deployment\\nmetadata:\\n  namespace: adam\\n  name: rag-tool-test\\nspec:\\n  replicas: 1\\n  selector:\\n    matchLabels:\\n      app: rag-tool-test\\n  template:\\n    metadata:\\n      labels:\\n        app: rag-tool-test\\n    spec:\\n      containers:\\n      - name: rag-tool-container\\n        image: python:3.8-slim\\n        ports:\\n        - containerPort: 8000\\n        env:\\n        - name: RAG_USE_AUTH\\n          value: \"False\"\\n        - name: RAG_MASTER_KEY\\n          value: \"\"\\n        command: [\"/bin/sh\", \"-c\"]\\n        args:\\n        - |\\n          apt-get update && apt-get install -y git\\n          git clone https://github.com/kalavai-net/tool_library.git /app/tool_library\\n          cd /app/tool_library\\n          git checkout feature/updates\\n          pip install fastapi uvicorn\\n          cd tool_library/example_tools/rag\\n          pip install -r requirements.txt\\n          uvicorn api:app --host 0.0.0.0 --port 8000\\n        resources:\\n          limits:\\n            cpu: 2\\n            memory: 4Gi\\n          requests:\\n            cpu: 2\\n            memory: 4Gi\\n        volumeMounts:\\n        - name: rag-tool-test-volume\\n          mountPath: \"/tool\"\\n      restartPolicy: Always\\n      volumes:\\n      - name: rag-tool-test-volume\\n',\n",
       "   'error': 'Error from server (Conflict): {\"kind\":\"Status\",\"apiVersion\":\"v1\",\"metadata\":{},\"status\":\"Failure\",\"message\":\"deployments.apps \\\\\"rag-tool-test\\\\\" already exists\",\"reason\":\"AlreadyExists\",\"details\":{\"name\":\"rag-tool-test\",\"group\":\"apps\",\"kind\":\"deployments\"},\"code\":409}\\n'},\n",
       "  {'yaml': '\\napiVersion: v1\\nkind: Service\\nmetadata:\\n  name: rag-tool-test-service\\n  namespace: adam\\n  labels:\\n    app: rag-tool-test\\nspec:\\n  selector:\\n    app: rag-tool-test\\n  ports:\\n    - name: http\\n      port: 8000\\n  type: NodePort\\n',\n",
       "   'error': 'Error from server (Conflict): {\"kind\":\"Status\",\"apiVersion\":\"v1\",\"metadata\":{},\"status\":\"Failure\",\"message\":\"services \\\\\"rag-tool-test-service\\\\\" already exists\",\"reason\":\"AlreadyExists\",\"details\":{\"name\":\"rag-tool-test-service\",\"kind\":\"services\"},\"code\":409}\\n'}]}"
      ]
     },
     "execution_count": 38,
     "metadata": {},
     "output_type": "execute_result"
    }
   ],
   "source": []
  },
  {
   "cell_type": "code",
   "execution_count": null,
   "metadata": {},
   "outputs": [],
   "source": []
  }
 ],
 "metadata": {
  "kernelspec": {
   "display_name": "kalavai",
   "language": "python",
   "name": "python3"
  },
  "language_info": {
   "codemirror_mode": {
    "name": "ipython",
    "version": 3
   },
   "file_extension": ".py",
   "mimetype": "text/x-python",
   "name": "python",
   "nbconvert_exporter": "python",
   "pygments_lexer": "ipython3",
   "version": "3.9.15"
  }
 },
 "nbformat": 4,
 "nbformat_minor": 2
}
