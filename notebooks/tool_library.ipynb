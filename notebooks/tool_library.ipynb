{
 "cells": [
  {
   "cell_type": "markdown",
   "metadata": {},
   "source": [
    "# Tool Library Testing"
   ]
  },
  {
   "cell_type": "code",
   "execution_count": 1,
   "metadata": {},
   "outputs": [
    {
     "name": "stderr",
     "output_type": "stream",
     "text": [
      "/home/adam/miniconda3/envs/kalavai/lib/python3.11/site-packages/pydantic/_internal/_fields.py:149: UserWarning: Field \"model_card\" has conflict with protected namespace \"model_\".\n",
      "\n",
      "You may be able to resolve this warning by setting `model_config['protected_namespaces'] = ()`.\n",
      "  warnings.warn(\n",
      "/home/adam/miniconda3/envs/kalavai/lib/python3.11/site-packages/pydantic/_internal/_fields.py:149: UserWarning: Field \"model_deployment_template\" has conflict with protected namespace \"model_\".\n",
      "\n",
      "You may be able to resolve this warning by setting `model_config['protected_namespaces'] = ()`.\n",
      "  warnings.warn(\n"
     ]
    }
   ],
   "source": [
    "\n",
    "from model_library.models import *   \n",
    "from model_library import ARCHITECTURES\n",
    "from model_library.cards.architectures import TOOL_LIBRARY"
   ]
  },
  {
   "cell_type": "code",
   "execution_count": 2,
   "metadata": {},
   "outputs": [
    {
     "data": {
      "text/plain": [
       "False"
      ]
     },
     "execution_count": 2,
     "metadata": {},
     "output_type": "execute_result"
    }
   ],
   "source": [
    "TOOL_LIBRARY.check_health(\n",
    "    port = 32434,\n",
    "    url = \"http://178.62.13.8\"\n",
    ")"
   ]
  },
  {
   "cell_type": "code",
   "execution_count": 3,
   "metadata": {},
   "outputs": [],
   "source": [
    "from model_library.cards.model_deployment_templates import OPEN_TOOL_LIBRARY_DEPLOYMENT_CARD, TOOL_LIBRARY_DEPLOYMENT_CARD"
   ]
  },
  {
   "cell_type": "code",
   "execution_count": 4,
   "metadata": {},
   "outputs": [],
   "source": [
    "deployment_card = ModelDeploymentCard(\n",
    "    model_deployment_template = TOOL_LIBRARY_DEPLOYMENT_CARD,\n",
    "    user_information= UserInformation(\n",
    "        id=\"adam\",\n",
    "        namespace=\"adam\",\n",
    "        API_key = \"master\"\n",
    "    )\n",
    ")\n",
    "\n",
    "deployment = deployment_card.extract_deployment_config()\n"
   ]
  },
  {
   "cell_type": "code",
   "execution_count": 5,
   "metadata": {},
   "outputs": [
    {
     "name": "stdout",
     "output_type": "stream",
     "text": [
      "YAML string written to tool_library_compiled.yaml\n"
     ]
    }
   ],
   "source": [
    "file_path = \"tool_library_compiled.yaml\"  # Replace with your desired file path\n",
    "\n",
    "# Writing the string to a file\n",
    "with open(file_path, 'w') as file:\n",
    "    file.write(deployment)\n",
    "\n",
    "print(f\"YAML string written to {file_path}\")\n",
    "\n"
   ]
  },
  {
   "cell_type": "code",
   "execution_count": null,
   "metadata": {},
   "outputs": [],
   "source": []
  },
  {
   "cell_type": "code",
   "execution_count": 6,
   "metadata": {},
   "outputs": [],
   "source": [
    "import requests\n",
    "import json\n",
    "\n",
    "def deploy_generic_model(config):\n",
    "    # Read the configuration from the file\n",
    "\n",
    "    # Prepare the request data\n",
    "    data = {\n",
    "        \"config\": config\n",
    "    }\n",
    "\n",
    "    # Define the URL and headers\n",
    "    url = \"http://0.0.0.0:8000/v1/deploy_generic_model\"\n",
    "    headers = {\n",
    "        \"accept\": \"application/json\",\n",
    "        \"Content-Type\": \"application/json\"\n",
    "    }\n",
    "\n",
    "    # Make the POST request\n",
    "    response = requests.post(url, headers=headers, data=json.dumps(data))\n",
    "\n",
    "    # Check the response\n",
    "    if response.status_code == 200:\n",
    "        print(\"Deployment successful.\")\n",
    "        print(response.json())\n",
    "    else:\n",
    "        print(f\"Deployment failed with status code {response.status_code}.\")\n",
    "        print(response.text)\n",
    "\n",
    "\n"
   ]
  },
  {
   "cell_type": "code",
   "execution_count": 7,
   "metadata": {},
   "outputs": [
    {
     "name": "stdout",
     "output_type": "stream",
     "text": [
      "Deployment successful.\n",
      "True\n"
     ]
    }
   ],
   "source": [
    "deploy_generic_model(deployment)"
   ]
  }
 ],
 "metadata": {
  "kernelspec": {
   "display_name": "kalavai",
   "language": "python",
   "name": "python3"
  },
  "language_info": {
   "codemirror_mode": {
    "name": "ipython",
    "version": 3
   },
   "file_extension": ".py",
   "mimetype": "text/x-python",
   "name": "python",
   "nbconvert_exporter": "python",
   "pygments_lexer": "ipython3",
   "version": "3.11.7"
  }
 },
 "nbformat": 4,
 "nbformat_minor": 2
}
